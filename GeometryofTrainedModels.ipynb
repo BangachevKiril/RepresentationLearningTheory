{
  "nbformat": 4,
  "nbformat_minor": 0,
  "metadata": {
    "colab": {
      "provenance": [],
      "authorship_tag": "ABX9TyOWZcGKf0DpJqCZOVY5apx7",
      "include_colab_link": true
    },
    "kernelspec": {
      "name": "python3",
      "display_name": "Python 3"
    },
    "language_info": {
      "name": "python"
    }
  },
  "cells": [
    {
      "cell_type": "markdown",
      "metadata": {
        "id": "view-in-github",
        "colab_type": "text"
      },
      "source": [
        "<a href=\"https://colab.research.google.com/github/BangachevKiril/RepresentationLearningTheory/blob/main/GeometryofTrainedModels.ipynb\" target=\"_parent\"><img src=\"https://colab.research.google.com/assets/colab-badge.svg\" alt=\"Open In Colab\"/></a>"
      ]
    },
    {
      "cell_type": "markdown",
      "source": [
        "# Gemetry of Representations Notebook\n",
        "\n",
        "Finding relative bias and margin across 8 different models"
      ],
      "metadata": {
        "id": "Rw_PewcyaEsE"
      }
    },
    {
      "cell_type": "code",
      "source": [
        "from datasets import load_dataset\n",
        "import os\n",
        "from PIL import Image\n",
        "import matplotlib.pyplot as plt\n",
        "import numpy as np\n",
        "import torch\n",
        "from torchvision import transforms\n",
        "import torchvision"
      ],
      "metadata": {
        "id": "HBQzo65maHZ7"
      },
      "execution_count": 1,
      "outputs": []
    },
    {
      "cell_type": "code",
      "source": [
        "# optional. This is toconveniently save embeddings once processed if necessary\n",
        "from google.colab import drive\n",
        "drive.mount('/content/drive')"
      ],
      "metadata": {
        "colab": {
          "base_uri": "https://localhost:8080/"
        },
        "id": "zU6EhjATaTt0",
        "outputId": "95213710-76a0-4654-b521-b42470980831"
      },
      "execution_count": 2,
      "outputs": [
        {
          "output_type": "stream",
          "name": "stdout",
          "text": [
            "Mounted at /content/drive\n"
          ]
        }
      ]
    },
    {
      "cell_type": "code",
      "source": [
        "# get libraries necessary for Hugging Face models\n",
        "!pip install -U transformers\n",
        "import requests\n",
        "from transformers import AutoProcessor, AutoModel"
      ],
      "metadata": {
        "collapsed": true,
        "id": "4rGjwXbnaWMA"
      },
      "execution_count": null,
      "outputs": []
    },
    {
      "cell_type": "markdown",
      "source": [
        "## Model Names and Parameters"
      ],
      "metadata": {
        "id": "8_n-WFgvaquM"
      }
    },
    {
      "cell_type": "code",
      "source": [
        "varieties_siglip = ['google/siglip-so400m-patch14-384',\n",
        "             'google/siglip-base-patch16-224',\n",
        "             'google/siglip-base-patch16-384',\n",
        "             'google/siglip-large-patch16-256',\n",
        "             'google/siglip-so400m-patch14-224',\n",
        "             'google/siglip-base-patch16-256',\n",
        "             'google/siglip-base-patch16-512',\n",
        "             'google/siglip-large-patch16-384']"
      ],
      "metadata": {
        "id": "-mUYbX09ba4t"
      },
      "execution_count": 4,
      "outputs": []
    },
    {
      "cell_type": "code",
      "source": [
        "model_params = dict()\n",
        "\n",
        "for variety in varieties_siglip:\n",
        "  model_params[variety] = dict()\n",
        "  model = AutoModel.from_pretrained(variety)\n",
        "  model_params[variety]['bias'] = model.logit_bias.item()\n",
        "  model_params[variety]['inverse_temperature'] = np.exp(model.logit_scale.item())\n",
        "  model_params[variety]['relative_bias'] = model_params[variety]['bias']/model_params[variety]['inverse_temperature']"
      ],
      "metadata": {
        "id": "QZ1me305_JP_"
      },
      "execution_count": null,
      "outputs": []
    },
    {
      "cell_type": "markdown",
      "source": [
        "# Getting Data and Embedding"
      ],
      "metadata": {
        "id": "hScWwIPZkY49"
      }
    },
    {
      "cell_type": "code",
      "source": [
        "def calculate_xi(image_embeddings, text_embeddings):\n",
        "  diff = image_embeddings - text_embeddings\n",
        "  mean_of_norms = np.mean(np.linalg.norm(diff, axis=1)**2)\n",
        "  norm_of_mean = np.linalg.norm(np.mean(diff, axis = 0))**2\n",
        "  random = np.random.permutation(np.arange(image_embeddings.shape[0]))\n",
        "  random_diff = image_embeddings[random, :] - text_embeddings\n",
        "  random_mean_of_norms = np.mean(np.linalg.norm(random_diff, axis=1)**2)\n",
        "  return np.array([mean_of_norms, norm_of_mean, random_mean_of_norms])"
      ],
      "metadata": {
        "id": "ELJsfOdlFVBz"
      },
      "execution_count": null,
      "outputs": []
    },
    {
      "cell_type": "code",
      "source": [
        "!mkdir ImageNetVal\n",
        "%cd ImageNetVal\n",
        "!wget https://image-net.org/data/ILSVRC/2012/ILSVRC2012_img_val.tar"
      ],
      "metadata": {
        "id": "QAE-5gY-an7a"
      },
      "execution_count": null,
      "outputs": []
    },
    {
      "cell_type": "code",
      "source": [
        "!mkdir val\n",
        "# extract\n",
        "!tar -xvf ILSVRC2012_img_val.tar -C val"
      ],
      "metadata": {
        "collapsed": true,
        "id": "dZQQEvwba2Cx"
      },
      "execution_count": null,
      "outputs": []
    },
    {
      "cell_type": "code",
      "source": [
        "# uses the labels_text.txt file which has a list of labels in English.\n",
        "labels_lookup = []\n",
        "with open('labels_text.txt', 'r') as f:\n",
        "  for line in f:\n",
        "    labels_lookup.append(line.split('\\n')[0])"
      ],
      "metadata": {
        "id": "0UPuh_Pwa7kt"
      },
      "execution_count": null,
      "outputs": []
    },
    {
      "cell_type": "code",
      "source": [
        "# split the ImageNet dataset based on classes\n",
        "import shutil\n",
        "\n",
        "# Paths\n",
        "val_dir = \"val\"                          # folder with 50k images\n",
        "mapping_file = \"labels_text.txt\"         # class labels\n",
        "output_dir = \"val_unpacked\"              # where we unpack into 998 folders (two classes have 100 instead of 50 images)\n",
        "\n",
        "# Create output folder\n",
        "os.makedirs(output_dir, exist_ok=True)\n",
        "\n",
        "# Read mapping\n",
        "with open(mapping_file, \"r\") as f:\n",
        "    lines = f.readlines()\n",
        "\n",
        "for i,line in enumerate(lines):\n",
        "    filename = 'ILSVRC2012_val_000' +'0'*(5-len(str(i+1))) + str(i+1) + '.JPEG'\n",
        "    src = os.path.join(val_dir, filename)\n",
        "    dst_dir = os.path.join(output_dir, str(line.split('\\n')[0]))\n",
        "    os.makedirs(dst_dir, exist_ok=True)\n",
        "    dst = os.path.join(dst_dir, filename)\n",
        "    shutil.move(src, dst)\n",
        "\n",
        "print(\"Done! Validation set organized into 1000 folders.\")"
      ],
      "metadata": {
        "colab": {
          "base_uri": "https://localhost:8080/"
        },
        "id": "aGFQJrFRbZIX",
        "outputId": "17f9dbc2-0947-4116-e10c-2f3707137f85"
      },
      "execution_count": null,
      "outputs": [
        {
          "output_type": "stream",
          "name": "stdout",
          "text": [
            "Done! Validation set organized into 1000 folders.\n"
          ]
        }
      ]
    },
    {
      "cell_type": "markdown",
      "source": [
        "### Run Infernece"
      ],
      "metadata": {
        "id": "-1SNxO2-bcru"
      }
    },
    {
      "cell_type": "code",
      "source": [
        "# siglip\n",
        "for variety in varieties_siglip:\n",
        "  # load model\n",
        "  print(variety)\n",
        "  processor = AutoProcessor.from_pretrained(variety)\n",
        "  model = AutoModel.from_pretrained(variety).to('cuda')\n",
        "  # set up data\n",
        "  image_embeddings = []\n",
        "  text_embeddings = []\n",
        "  splits = []\n",
        "  ordered_labels = []\n",
        "  so_far = 0\n",
        "  # embed\n",
        "  for i,label in enumerate(os.listdir('ImageNetVal/val_unpacked')):\n",
        "    with torch.no_grad(): #no grad computations plz\n",
        "      # get data\n",
        "      images = [Image.open('ImageNetVal/val_unpacked/'+label + '/' + filename ).convert('RGB') for\n",
        "              filename in os.listdir('ImageNetVal/val_unpacked/'+label)] # get images\n",
        "      for _ in os.listdir('ImageNetVal/val_unpacked/'+label):\n",
        "        ordered_labels.append(label)\n",
        "      # process data\n",
        "      inputs = processor(images=images, text=[label],\n",
        "                       return_tensors=\"pt\", padding=\"max_length\").to(model.device) # process\n",
        "      splits.append(so_far)\n",
        "      # find representations\n",
        "      outputs = model(**inputs) # forward pass\n",
        "    #record\n",
        "      image_embeddings.append(outputs.image_embeds.detach().cpu().numpy())\n",
        "      text_embeddings.append(np.outer(np.ones(len(images)),\n",
        "                                     outputs.text_embeds.detach().cpu().numpy()))\n",
        "      so_far += len(images)\n",
        "  # after all is embedded\n",
        "  image_embeddings = np.concatenate(image_embeddings, axis=0)\n",
        "  text_embeddings = np.concatenate(text_embeddings, axis=0)\n",
        "  splits = np.array(splits)\n",
        "  ordered_labels = np.array(ordered_labels)\n",
        "  xi = calculate_xi(image_embeddings, text_embeddings)\n",
        "  np.savez('drive/My Drive/Research/SigLIP/imagenetval'+variety.split('/')[-1]+'.npz',\n",
        "         text = text_embeddings,\n",
        "         image = image_embeddings,\n",
        "         splits = splits,\n",
        "         ordered_labels= ordered_labels,\n",
        "         xi = xi)"
      ],
      "metadata": {
        "id": "Ap-fBiL8fYvG"
      },
      "execution_count": null,
      "outputs": []
    },
    {
      "cell_type": "markdown",
      "source": [
        "# Experiments"
      ],
      "metadata": {
        "id": "iHxz9-qn-LTS"
      }
    },
    {
      "cell_type": "markdown",
      "source": [
        "# Get statistics"
      ],
      "metadata": {
        "id": "LwrmxQUB-QDX"
      }
    },
    {
      "cell_type": "code",
      "source": [
        "# get splits and form similarity boolean matrix\n",
        "prefix = 'drive/My Drive/Research/SigLIP/imagenetval'\n",
        "data = np.load(prefix+varieties_siglip[-1].split('/')[-1]+'.npz')\n",
        "splits = data['splits']\n",
        "labels = data['ordered_labels']"
      ],
      "metadata": {
        "id": "ppYjqpjh-e2E"
      },
      "execution_count": 52,
      "outputs": []
    },
    {
      "cell_type": "code",
      "source": [
        "correct_label = np.zeros((np.shape(data['text'])[0], np.shape(splits)[0]),dtype=bool)\n",
        "c = 0\n",
        "for i in range(correct_label.shape[0]):\n",
        "  if c+1<correct_label.shape[1] and i == splits[c+1]:\n",
        "    c += 1\n",
        "  correct_label[i,c] = True"
      ],
      "metadata": {
        "id": "Fqg0HqJI-O0P"
      },
      "execution_count": 53,
      "outputs": []
    },
    {
      "cell_type": "code",
      "source": [
        "def get_cos_similarity_statistics(text_embeddings, image_embeddings, temperature, bias):\n",
        "  ips = image_embeddings @ text_embeddings[splits, :].T\n",
        "  # stats of inner products\n",
        "  matching = ips[correct_label]\n",
        "  mismatching = ips[~correct_label]\n",
        "  return np.array([np.mean(matching),np.mean(mismatching)])"
      ],
      "metadata": {
        "id": "uRKzJsIQAX03"
      },
      "execution_count": 54,
      "outputs": []
    },
    {
      "cell_type": "code",
      "source": [
        "prefix = 'drive/My Drive/Research/SigLIP/imagenetval'\n",
        "vals = []\n",
        "for variety in varieties_siglip:\n",
        "  print(variety)\n",
        "  data = np.load(prefix+variety.split('/')[-1]+'.npz')\n",
        "\n",
        "  text_full = data['text']\n",
        "  image_full = data['image']\n",
        "  vals.append(get_cos_similarity_statistics(text_full, image_full,\n",
        "                              model_params[variety]['inverse_temperature'], model_params[variety]['bias']))"
      ],
      "metadata": {
        "id": "LS_2W75rBxyU",
        "colab": {
          "base_uri": "https://localhost:8080/"
        },
        "outputId": "e1fe87ce-dc49-4db0-81c1-cd5ccb6b63b3"
      },
      "execution_count": 55,
      "outputs": [
        {
          "output_type": "stream",
          "name": "stdout",
          "text": [
            "google/siglip-so400m-patch14-384\n",
            "google/siglip-base-patch16-224\n",
            "google/siglip-base-patch16-384\n",
            "google/siglip-large-patch16-256\n",
            "google/siglip-so400m-patch14-224\n",
            "google/siglip-base-patch16-256\n",
            "google/siglip-base-patch16-512\n",
            "google/siglip-large-patch16-384\n"
          ]
        }
      ]
    },
    {
      "cell_type": "code",
      "source": [
        "import pandas as pd\n",
        "summary  = pd.DataFrame(vals, index=varieties_siglip,\n",
        "                       columns=['mean_pos_cos', 'mean_neg_cos'])"
      ],
      "metadata": {
        "id": "bMDjDBZ7CFkP"
      },
      "execution_count": 56,
      "outputs": []
    },
    {
      "cell_type": "code",
      "source": [
        "summary['margin'] = (summary['mean_pos_cos'] - summary['mean_neg_cos'])/2\n",
        "summary['relative_bias'] = (summary['mean_pos_cos'] + summary['mean_neg_cos'])/2\n",
        "summary[['mean_pos_cos', 'mean_neg_cos', 'margin', 'relative_bias']]"
      ],
      "metadata": {
        "id": "WeqqHHWhExVi",
        "colab": {
          "base_uri": "https://localhost:8080/",
          "height": 300
        },
        "outputId": "6acb2103-5fd1-4e28-b8d6-9293008b85ef"
      },
      "execution_count": 57,
      "outputs": [
        {
          "output_type": "execute_result",
          "data": {
            "text/plain": [
              "                                  mean_pos_cos  mean_neg_cos    margin  \\\n",
              "google/siglip-so400m-patch14-384      0.137568     -0.001476  0.069522   \n",
              "google/siglip-base-patch16-224        0.094982     -0.030491  0.062736   \n",
              "google/siglip-base-patch16-384        0.096593     -0.031865  0.064229   \n",
              "google/siglip-large-patch16-256       0.102251     -0.035850  0.069051   \n",
              "google/siglip-so400m-patch14-224      0.136509     -0.002205  0.069357   \n",
              "google/siglip-base-patch16-256        0.100431     -0.029425  0.064928   \n",
              "google/siglip-base-patch16-512        0.097063     -0.032233  0.064648   \n",
              "google/siglip-large-patch16-384       0.095794     -0.038382  0.067088   \n",
              "\n",
              "                                  relative_bias  \n",
              "google/siglip-so400m-patch14-384       0.068046  \n",
              "google/siglip-base-patch16-224         0.032245  \n",
              "google/siglip-base-patch16-384         0.032364  \n",
              "google/siglip-large-patch16-256        0.033200  \n",
              "google/siglip-so400m-patch14-224       0.067152  \n",
              "google/siglip-base-patch16-256         0.035503  \n",
              "google/siglip-base-patch16-512         0.032415  \n",
              "google/siglip-large-patch16-384        0.028706  "
            ],
            "text/html": [
              "\n",
              "  <div id=\"df-41bd02ac-2d82-4f7b-9873-923f94f61a2d\" class=\"colab-df-container\">\n",
              "    <div>\n",
              "<style scoped>\n",
              "    .dataframe tbody tr th:only-of-type {\n",
              "        vertical-align: middle;\n",
              "    }\n",
              "\n",
              "    .dataframe tbody tr th {\n",
              "        vertical-align: top;\n",
              "    }\n",
              "\n",
              "    .dataframe thead th {\n",
              "        text-align: right;\n",
              "    }\n",
              "</style>\n",
              "<table border=\"1\" class=\"dataframe\">\n",
              "  <thead>\n",
              "    <tr style=\"text-align: right;\">\n",
              "      <th></th>\n",
              "      <th>mean_pos_cos</th>\n",
              "      <th>mean_neg_cos</th>\n",
              "      <th>margin</th>\n",
              "      <th>relative_bias</th>\n",
              "    </tr>\n",
              "  </thead>\n",
              "  <tbody>\n",
              "    <tr>\n",
              "      <th>google/siglip-so400m-patch14-384</th>\n",
              "      <td>0.137568</td>\n",
              "      <td>-0.001476</td>\n",
              "      <td>0.069522</td>\n",
              "      <td>0.068046</td>\n",
              "    </tr>\n",
              "    <tr>\n",
              "      <th>google/siglip-base-patch16-224</th>\n",
              "      <td>0.094982</td>\n",
              "      <td>-0.030491</td>\n",
              "      <td>0.062736</td>\n",
              "      <td>0.032245</td>\n",
              "    </tr>\n",
              "    <tr>\n",
              "      <th>google/siglip-base-patch16-384</th>\n",
              "      <td>0.096593</td>\n",
              "      <td>-0.031865</td>\n",
              "      <td>0.064229</td>\n",
              "      <td>0.032364</td>\n",
              "    </tr>\n",
              "    <tr>\n",
              "      <th>google/siglip-large-patch16-256</th>\n",
              "      <td>0.102251</td>\n",
              "      <td>-0.035850</td>\n",
              "      <td>0.069051</td>\n",
              "      <td>0.033200</td>\n",
              "    </tr>\n",
              "    <tr>\n",
              "      <th>google/siglip-so400m-patch14-224</th>\n",
              "      <td>0.136509</td>\n",
              "      <td>-0.002205</td>\n",
              "      <td>0.069357</td>\n",
              "      <td>0.067152</td>\n",
              "    </tr>\n",
              "    <tr>\n",
              "      <th>google/siglip-base-patch16-256</th>\n",
              "      <td>0.100431</td>\n",
              "      <td>-0.029425</td>\n",
              "      <td>0.064928</td>\n",
              "      <td>0.035503</td>\n",
              "    </tr>\n",
              "    <tr>\n",
              "      <th>google/siglip-base-patch16-512</th>\n",
              "      <td>0.097063</td>\n",
              "      <td>-0.032233</td>\n",
              "      <td>0.064648</td>\n",
              "      <td>0.032415</td>\n",
              "    </tr>\n",
              "    <tr>\n",
              "      <th>google/siglip-large-patch16-384</th>\n",
              "      <td>0.095794</td>\n",
              "      <td>-0.038382</td>\n",
              "      <td>0.067088</td>\n",
              "      <td>0.028706</td>\n",
              "    </tr>\n",
              "  </tbody>\n",
              "</table>\n",
              "</div>\n",
              "    <div class=\"colab-df-buttons\">\n",
              "\n",
              "  <div class=\"colab-df-container\">\n",
              "    <button class=\"colab-df-convert\" onclick=\"convertToInteractive('df-41bd02ac-2d82-4f7b-9873-923f94f61a2d')\"\n",
              "            title=\"Convert this dataframe to an interactive table.\"\n",
              "            style=\"display:none;\">\n",
              "\n",
              "  <svg xmlns=\"http://www.w3.org/2000/svg\" height=\"24px\" viewBox=\"0 -960 960 960\">\n",
              "    <path d=\"M120-120v-720h720v720H120Zm60-500h600v-160H180v160Zm220 220h160v-160H400v160Zm0 220h160v-160H400v160ZM180-400h160v-160H180v160Zm440 0h160v-160H620v160ZM180-180h160v-160H180v160Zm440 0h160v-160H620v160Z\"/>\n",
              "  </svg>\n",
              "    </button>\n",
              "\n",
              "  <style>\n",
              "    .colab-df-container {\n",
              "      display:flex;\n",
              "      gap: 12px;\n",
              "    }\n",
              "\n",
              "    .colab-df-convert {\n",
              "      background-color: #E8F0FE;\n",
              "      border: none;\n",
              "      border-radius: 50%;\n",
              "      cursor: pointer;\n",
              "      display: none;\n",
              "      fill: #1967D2;\n",
              "      height: 32px;\n",
              "      padding: 0 0 0 0;\n",
              "      width: 32px;\n",
              "    }\n",
              "\n",
              "    .colab-df-convert:hover {\n",
              "      background-color: #E2EBFA;\n",
              "      box-shadow: 0px 1px 2px rgba(60, 64, 67, 0.3), 0px 1px 3px 1px rgba(60, 64, 67, 0.15);\n",
              "      fill: #174EA6;\n",
              "    }\n",
              "\n",
              "    .colab-df-buttons div {\n",
              "      margin-bottom: 4px;\n",
              "    }\n",
              "\n",
              "    [theme=dark] .colab-df-convert {\n",
              "      background-color: #3B4455;\n",
              "      fill: #D2E3FC;\n",
              "    }\n",
              "\n",
              "    [theme=dark] .colab-df-convert:hover {\n",
              "      background-color: #434B5C;\n",
              "      box-shadow: 0px 1px 3px 1px rgba(0, 0, 0, 0.15);\n",
              "      filter: drop-shadow(0px 1px 2px rgba(0, 0, 0, 0.3));\n",
              "      fill: #FFFFFF;\n",
              "    }\n",
              "  </style>\n",
              "\n",
              "    <script>\n",
              "      const buttonEl =\n",
              "        document.querySelector('#df-41bd02ac-2d82-4f7b-9873-923f94f61a2d button.colab-df-convert');\n",
              "      buttonEl.style.display =\n",
              "        google.colab.kernel.accessAllowed ? 'block' : 'none';\n",
              "\n",
              "      async function convertToInteractive(key) {\n",
              "        const element = document.querySelector('#df-41bd02ac-2d82-4f7b-9873-923f94f61a2d');\n",
              "        const dataTable =\n",
              "          await google.colab.kernel.invokeFunction('convertToInteractive',\n",
              "                                                    [key], {});\n",
              "        if (!dataTable) return;\n",
              "\n",
              "        const docLinkHtml = 'Like what you see? Visit the ' +\n",
              "          '<a target=\"_blank\" href=https://colab.research.google.com/notebooks/data_table.ipynb>data table notebook</a>'\n",
              "          + ' to learn more about interactive tables.';\n",
              "        element.innerHTML = '';\n",
              "        dataTable['output_type'] = 'display_data';\n",
              "        await google.colab.output.renderOutput(dataTable, element);\n",
              "        const docLink = document.createElement('div');\n",
              "        docLink.innerHTML = docLinkHtml;\n",
              "        element.appendChild(docLink);\n",
              "      }\n",
              "    </script>\n",
              "  </div>\n",
              "\n",
              "\n",
              "    <div id=\"df-172ec6d6-2594-46f3-b465-0230861dac05\">\n",
              "      <button class=\"colab-df-quickchart\" onclick=\"quickchart('df-172ec6d6-2594-46f3-b465-0230861dac05')\"\n",
              "                title=\"Suggest charts\"\n",
              "                style=\"display:none;\">\n",
              "\n",
              "<svg xmlns=\"http://www.w3.org/2000/svg\" height=\"24px\"viewBox=\"0 0 24 24\"\n",
              "     width=\"24px\">\n",
              "    <g>\n",
              "        <path d=\"M19 3H5c-1.1 0-2 .9-2 2v14c0 1.1.9 2 2 2h14c1.1 0 2-.9 2-2V5c0-1.1-.9-2-2-2zM9 17H7v-7h2v7zm4 0h-2V7h2v10zm4 0h-2v-4h2v4z\"/>\n",
              "    </g>\n",
              "</svg>\n",
              "      </button>\n",
              "\n",
              "<style>\n",
              "  .colab-df-quickchart {\n",
              "      --bg-color: #E8F0FE;\n",
              "      --fill-color: #1967D2;\n",
              "      --hover-bg-color: #E2EBFA;\n",
              "      --hover-fill-color: #174EA6;\n",
              "      --disabled-fill-color: #AAA;\n",
              "      --disabled-bg-color: #DDD;\n",
              "  }\n",
              "\n",
              "  [theme=dark] .colab-df-quickchart {\n",
              "      --bg-color: #3B4455;\n",
              "      --fill-color: #D2E3FC;\n",
              "      --hover-bg-color: #434B5C;\n",
              "      --hover-fill-color: #FFFFFF;\n",
              "      --disabled-bg-color: #3B4455;\n",
              "      --disabled-fill-color: #666;\n",
              "  }\n",
              "\n",
              "  .colab-df-quickchart {\n",
              "    background-color: var(--bg-color);\n",
              "    border: none;\n",
              "    border-radius: 50%;\n",
              "    cursor: pointer;\n",
              "    display: none;\n",
              "    fill: var(--fill-color);\n",
              "    height: 32px;\n",
              "    padding: 0;\n",
              "    width: 32px;\n",
              "  }\n",
              "\n",
              "  .colab-df-quickchart:hover {\n",
              "    background-color: var(--hover-bg-color);\n",
              "    box-shadow: 0 1px 2px rgba(60, 64, 67, 0.3), 0 1px 3px 1px rgba(60, 64, 67, 0.15);\n",
              "    fill: var(--button-hover-fill-color);\n",
              "  }\n",
              "\n",
              "  .colab-df-quickchart-complete:disabled,\n",
              "  .colab-df-quickchart-complete:disabled:hover {\n",
              "    background-color: var(--disabled-bg-color);\n",
              "    fill: var(--disabled-fill-color);\n",
              "    box-shadow: none;\n",
              "  }\n",
              "\n",
              "  .colab-df-spinner {\n",
              "    border: 2px solid var(--fill-color);\n",
              "    border-color: transparent;\n",
              "    border-bottom-color: var(--fill-color);\n",
              "    animation:\n",
              "      spin 1s steps(1) infinite;\n",
              "  }\n",
              "\n",
              "  @keyframes spin {\n",
              "    0% {\n",
              "      border-color: transparent;\n",
              "      border-bottom-color: var(--fill-color);\n",
              "      border-left-color: var(--fill-color);\n",
              "    }\n",
              "    20% {\n",
              "      border-color: transparent;\n",
              "      border-left-color: var(--fill-color);\n",
              "      border-top-color: var(--fill-color);\n",
              "    }\n",
              "    30% {\n",
              "      border-color: transparent;\n",
              "      border-left-color: var(--fill-color);\n",
              "      border-top-color: var(--fill-color);\n",
              "      border-right-color: var(--fill-color);\n",
              "    }\n",
              "    40% {\n",
              "      border-color: transparent;\n",
              "      border-right-color: var(--fill-color);\n",
              "      border-top-color: var(--fill-color);\n",
              "    }\n",
              "    60% {\n",
              "      border-color: transparent;\n",
              "      border-right-color: var(--fill-color);\n",
              "    }\n",
              "    80% {\n",
              "      border-color: transparent;\n",
              "      border-right-color: var(--fill-color);\n",
              "      border-bottom-color: var(--fill-color);\n",
              "    }\n",
              "    90% {\n",
              "      border-color: transparent;\n",
              "      border-bottom-color: var(--fill-color);\n",
              "    }\n",
              "  }\n",
              "</style>\n",
              "\n",
              "      <script>\n",
              "        async function quickchart(key) {\n",
              "          const quickchartButtonEl =\n",
              "            document.querySelector('#' + key + ' button');\n",
              "          quickchartButtonEl.disabled = true;  // To prevent multiple clicks.\n",
              "          quickchartButtonEl.classList.add('colab-df-spinner');\n",
              "          try {\n",
              "            const charts = await google.colab.kernel.invokeFunction(\n",
              "                'suggestCharts', [key], {});\n",
              "          } catch (error) {\n",
              "            console.error('Error during call to suggestCharts:', error);\n",
              "          }\n",
              "          quickchartButtonEl.classList.remove('colab-df-spinner');\n",
              "          quickchartButtonEl.classList.add('colab-df-quickchart-complete');\n",
              "        }\n",
              "        (() => {\n",
              "          let quickchartButtonEl =\n",
              "            document.querySelector('#df-172ec6d6-2594-46f3-b465-0230861dac05 button');\n",
              "          quickchartButtonEl.style.display =\n",
              "            google.colab.kernel.accessAllowed ? 'block' : 'none';\n",
              "        })();\n",
              "      </script>\n",
              "    </div>\n",
              "\n",
              "    </div>\n",
              "  </div>\n"
            ],
            "application/vnd.google.colaboratory.intrinsic+json": {
              "type": "dataframe",
              "summary": "{\n  \"name\": \"summary[['mean_pos_cos', 'mean_neg_cos', 'margin', 'relative_bias']]\",\n  \"rows\": 8,\n  \"fields\": [\n    {\n      \"column\": \"mean_pos_cos\",\n      \"properties\": {\n        \"dtype\": \"number\",\n        \"std\": 0.01830132185211294,\n        \"min\": 0.09498173324307621,\n        \"max\": 0.13756754040379984,\n        \"num_unique_values\": 8,\n        \"samples\": [\n          0.09498173324307621,\n          0.1004313572002664,\n          0.13756754040379984\n        ],\n        \"semantic_type\": \"\",\n        \"description\": \"\"\n      }\n    },\n    {\n      \"column\": \"mean_neg_cos\",\n      \"properties\": {\n        \"dtype\": \"number\",\n        \"std\": 0.014728459619757273,\n        \"min\": -0.0383819799291863,\n        \"max\": -0.0014760985263132867,\n        \"num_unique_values\": 8,\n        \"samples\": [\n          -0.030491193645165986,\n          -0.02942473375951471,\n          -0.0014760985263132867\n        ],\n        \"semantic_type\": \"\",\n        \"description\": \"\"\n      }\n    },\n    {\n      \"column\": \"margin\",\n      \"properties\": {\n        \"dtype\": \"number\",\n        \"std\": 0.0026550406038136827,\n        \"min\": 0.0627364634441211,\n        \"max\": 0.06952181946505656,\n        \"num_unique_values\": 8,\n        \"samples\": [\n          0.0627364634441211,\n          0.06492804547989056,\n          0.06952181946505656\n        ],\n        \"semantic_type\": \"\",\n        \"description\": \"\"\n      }\n    },\n    {\n      \"column\": \"relative_bias\",\n      \"properties\": {\n        \"dtype\": \"number\",\n        \"std\": 0.016397673967512107,\n        \"min\": 0.028705880067658358,\n        \"max\": 0.06804572093874328,\n        \"num_unique_values\": 8,\n        \"samples\": [\n          0.03224526979895511,\n          0.035503311720375845,\n          0.06804572093874328\n        ],\n        \"semantic_type\": \"\",\n        \"description\": \"\"\n      }\n    }\n  ]\n}"
            }
          },
          "metadata": {},
          "execution_count": 57
        }
      ]
    }
  ]
}